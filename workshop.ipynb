{
 "cells": [
  {
   "cell_type": "markdown",
   "metadata": {
    "id": "33swP5fD5dpx",
    "tags": []
   },
   "source": [
    "# Sentence Generation on Quantum Computers\n",
    "\n",
    "In this workshop we're going to generate some sentences about food, using the techniques in the paper \"Quantum Natural Language Generation on Near-Term devices\". \n",
    "\n",
    "The first part of this notebook is based on the following example from Lambeq, a python library specifically created for QNLP tasks: https://cqcl.github.io/lambeq/examples/quantum_pipeline.html. We encourage you to explore Lambeq more after this workshop, it has lots of neat features!"
   ]
  },
  {
   "cell_type": "markdown",
   "metadata": {
    "id": "MeOh_GGg5dp4"
   },
   "source": [
    "## Installing the dependencies\n",
    "The first thing we need to do is make sure we have the necessary python packages installed."
   ]
  },
  {
   "cell_type": "code",
   "execution_count": 1,
   "metadata": {
    "id": "5KPvszq_5dp5",
    "outputId": "16640c53-6bcc-4d43-aa7d-471b22e72e83"
   },
   "outputs": [
    {
     "name": "stdout",
     "output_type": "stream",
     "text": [
      "Requirement already satisfied: lambeq in /home/jadewang26/miniconda3/lib/python3.10/site-packages (0.3.3)\n",
      "Requirement already satisfied: transformers in /home/jadewang26/miniconda3/lib/python3.10/site-packages (from lambeq) (4.19.2)\n",
      "Requirement already satisfied: discopy>=1.1.4 in /home/jadewang26/miniconda3/lib/python3.10/site-packages (from lambeq) (1.1.4)\n",
      "Requirement already satisfied: spacy>=3.0 in /home/jadewang26/miniconda3/lib/python3.10/site-packages (from lambeq) (3.7.1)\n",
      "Requirement already satisfied: torch>=1.12.1 in /home/jadewang26/miniconda3/lib/python3.10/site-packages (from lambeq) (2.0.0)\n",
      "Requirement already satisfied: tensornetwork in /home/jadewang26/miniconda3/lib/python3.10/site-packages (from lambeq) (0.4.6)\n",
      "Requirement already satisfied: pyyaml in /home/jadewang26/miniconda3/lib/python3.10/site-packages (from lambeq) (6.0)\n",
      "Requirement already satisfied: pytket>=0.19.2 in /home/jadewang26/miniconda3/lib/python3.10/site-packages (from lambeq) (1.20.1)\n",
      "Requirement already satisfied: numpy>=1.18.1 in /home/jadewang26/miniconda3/lib/python3.10/site-packages (from discopy>=1.1.4->lambeq) (1.23.5)\n",
      "Requirement already satisfied: matplotlib>=3.1.2 in /home/jadewang26/miniconda3/lib/python3.10/site-packages (from discopy>=1.1.4->lambeq) (3.8.0)\n",
      "Requirement already satisfied: networkx>=2.4 in /home/jadewang26/miniconda3/lib/python3.10/site-packages (from discopy>=1.1.4->lambeq) (3.1)\n",
      "Requirement already satisfied: pillow>=6.2.1 in /home/jadewang26/miniconda3/lib/python3.10/site-packages (from discopy>=1.1.4->lambeq) (9.4.0)\n",
      "Requirement already satisfied: types-pkg-resources in /home/jadewang26/miniconda3/lib/python3.10/site-packages (from pytket>=0.19.2->lambeq) (0.1.3)\n",
      "Requirement already satisfied: scipy<2.0,>=1.7.2 in /home/jadewang26/miniconda3/lib/python3.10/site-packages (from pytket>=0.19.2->lambeq) (1.11.3)\n",
      "Requirement already satisfied: qwasm~=1.0 in /home/jadewang26/miniconda3/lib/python3.10/site-packages (from pytket>=0.19.2->lambeq) (1.0.1)\n",
      "Requirement already satisfied: graphviz~=0.14 in /home/jadewang26/miniconda3/lib/python3.10/site-packages (from pytket>=0.19.2->lambeq) (0.20.1)\n",
      "Requirement already satisfied: typing-extensions~=4.2 in /home/jadewang26/miniconda3/lib/python3.10/site-packages (from pytket>=0.19.2->lambeq) (4.5.0)\n",
      "Requirement already satisfied: jinja2~=3.0 in /home/jadewang26/miniconda3/lib/python3.10/site-packages (from pytket>=0.19.2->lambeq) (3.1.2)\n",
      "Requirement already satisfied: sympy~=1.6 in /home/jadewang26/miniconda3/lib/python3.10/site-packages (from pytket>=0.19.2->lambeq) (1.11.1)\n",
      "Requirement already satisfied: lark-parser~=0.7 in /home/jadewang26/miniconda3/lib/python3.10/site-packages (from pytket>=0.19.2->lambeq) (0.12.0)\n",
      "Requirement already satisfied: typer<0.10.0,>=0.3.0 in /home/jadewang26/miniconda3/lib/python3.10/site-packages (from spacy>=3.0->lambeq) (0.9.0)\n",
      "Requirement already satisfied: thinc<8.3.0,>=8.1.8 in /home/jadewang26/miniconda3/lib/python3.10/site-packages (from spacy>=3.0->lambeq) (8.2.1)\n",
      "Requirement already satisfied: requests<3.0.0,>=2.13.0 in /home/jadewang26/miniconda3/lib/python3.10/site-packages (from spacy>=3.0->lambeq) (2.28.1)\n",
      "Requirement already satisfied: pydantic!=1.8,!=1.8.1,<3.0.0,>=1.7.4 in /home/jadewang26/miniconda3/lib/python3.10/site-packages (from spacy>=3.0->lambeq) (1.10.7)\n",
      "Requirement already satisfied: spacy-loggers<2.0.0,>=1.0.0 in /home/jadewang26/miniconda3/lib/python3.10/site-packages (from spacy>=3.0->lambeq) (1.0.5)\n",
      "Requirement already satisfied: srsly<3.0.0,>=2.4.3 in /home/jadewang26/miniconda3/lib/python3.10/site-packages (from spacy>=3.0->lambeq) (2.4.8)\n",
      "Requirement already satisfied: catalogue<2.1.0,>=2.0.6 in /home/jadewang26/miniconda3/lib/python3.10/site-packages (from spacy>=3.0->lambeq) (2.0.10)\n",
      "Requirement already satisfied: weasel<0.4.0,>=0.1.0 in /home/jadewang26/miniconda3/lib/python3.10/site-packages (from spacy>=3.0->lambeq) (0.3.2)\n",
      "Requirement already satisfied: preshed<3.1.0,>=3.0.2 in /home/jadewang26/miniconda3/lib/python3.10/site-packages (from spacy>=3.0->lambeq) (3.0.9)\n",
      "Requirement already satisfied: spacy-legacy<3.1.0,>=3.0.11 in /home/jadewang26/miniconda3/lib/python3.10/site-packages (from spacy>=3.0->lambeq) (3.0.12)\n",
      "Requirement already satisfied: wasabi<1.2.0,>=0.9.1 in /home/jadewang26/miniconda3/lib/python3.10/site-packages (from spacy>=3.0->lambeq) (1.1.2)\n",
      "Requirement already satisfied: langcodes<4.0.0,>=3.2.0 in /home/jadewang26/miniconda3/lib/python3.10/site-packages (from spacy>=3.0->lambeq) (3.3.0)\n",
      "Requirement already satisfied: tqdm<5.0.0,>=4.38.0 in /home/jadewang26/miniconda3/lib/python3.10/site-packages (from spacy>=3.0->lambeq) (4.64.1)\n",
      "Requirement already satisfied: packaging>=20.0 in /home/jadewang26/miniconda3/lib/python3.10/site-packages (from spacy>=3.0->lambeq) (23.0)\n",
      "Requirement already satisfied: smart-open<7.0.0,>=5.2.1 in /home/jadewang26/miniconda3/lib/python3.10/site-packages (from spacy>=3.0->lambeq) (6.4.0)\n",
      "Requirement already satisfied: setuptools in /home/jadewang26/miniconda3/lib/python3.10/site-packages (from spacy>=3.0->lambeq) (65.6.3)\n",
      "Requirement already satisfied: pathy>=0.10.0 in /home/jadewang26/miniconda3/lib/python3.10/site-packages (from spacy>=3.0->lambeq) (0.10.2)\n",
      "Requirement already satisfied: murmurhash<1.1.0,>=0.28.0 in /home/jadewang26/miniconda3/lib/python3.10/site-packages (from spacy>=3.0->lambeq) (1.0.10)\n",
      "Requirement already satisfied: cymem<2.1.0,>=2.0.2 in /home/jadewang26/miniconda3/lib/python3.10/site-packages (from spacy>=3.0->lambeq) (2.0.8)\n",
      "Requirement already satisfied: filelock in /home/jadewang26/miniconda3/lib/python3.10/site-packages (from torch>=1.12.1->lambeq) (3.9.0)\n",
      "Requirement already satisfied: h5py>=2.9.0 in /home/jadewang26/miniconda3/lib/python3.10/site-packages (from tensornetwork->lambeq) (3.10.0)\n",
      "Requirement already satisfied: opt-einsum>=2.3.0 in /home/jadewang26/miniconda3/lib/python3.10/site-packages (from tensornetwork->lambeq) (3.3.0)\n",
      "Requirement already satisfied: huggingface-hub<1.0,>=0.1.0 in /home/jadewang26/miniconda3/lib/python3.10/site-packages (from transformers->lambeq) (0.13.3)\n",
      "Requirement already satisfied: regex!=2019.12.17 in /home/jadewang26/miniconda3/lib/python3.10/site-packages (from transformers->lambeq) (2023.3.22)\n",
      "Requirement already satisfied: tokenizers!=0.11.3,<0.13,>=0.11.1 in /home/jadewang26/miniconda3/lib/python3.10/site-packages (from transformers->lambeq) (0.12.1)\n",
      "Requirement already satisfied: MarkupSafe>=2.0 in /home/jadewang26/miniconda3/lib/python3.10/site-packages (from jinja2~=3.0->pytket>=0.19.2->lambeq) (2.1.1)\n",
      "Requirement already satisfied: contourpy>=1.0.1 in /home/jadewang26/miniconda3/lib/python3.10/site-packages (from matplotlib>=3.1.2->discopy>=1.1.4->lambeq) (1.1.1)\n",
      "Requirement already satisfied: pyparsing>=2.3.1 in /home/jadewang26/miniconda3/lib/python3.10/site-packages (from matplotlib>=3.1.2->discopy>=1.1.4->lambeq) (3.1.1)\n",
      "Requirement already satisfied: python-dateutil>=2.7 in /home/jadewang26/miniconda3/lib/python3.10/site-packages (from matplotlib>=3.1.2->discopy>=1.1.4->lambeq) (2.8.2)\n",
      "Requirement already satisfied: kiwisolver>=1.0.1 in /home/jadewang26/miniconda3/lib/python3.10/site-packages (from matplotlib>=3.1.2->discopy>=1.1.4->lambeq) (1.4.5)\n",
      "Requirement already satisfied: cycler>=0.10 in /home/jadewang26/miniconda3/lib/python3.10/site-packages (from matplotlib>=3.1.2->discopy>=1.1.4->lambeq) (0.12.1)\n",
      "Requirement already satisfied: fonttools>=4.22.0 in /home/jadewang26/miniconda3/lib/python3.10/site-packages (from matplotlib>=3.1.2->discopy>=1.1.4->lambeq) (4.43.1)\n",
      "Requirement already satisfied: charset-normalizer<3,>=2 in /home/jadewang26/miniconda3/lib/python3.10/site-packages (from requests<3.0.0,>=2.13.0->spacy>=3.0->lambeq) (2.0.4)\n",
      "Requirement already satisfied: urllib3<1.27,>=1.21.1 in /home/jadewang26/miniconda3/lib/python3.10/site-packages (from requests<3.0.0,>=2.13.0->spacy>=3.0->lambeq) (1.26.14)\n",
      "Requirement already satisfied: certifi>=2017.4.17 in /home/jadewang26/miniconda3/lib/python3.10/site-packages (from requests<3.0.0,>=2.13.0->spacy>=3.0->lambeq) (2022.12.7)\n",
      "Requirement already satisfied: idna<4,>=2.5 in /home/jadewang26/miniconda3/lib/python3.10/site-packages (from requests<3.0.0,>=2.13.0->spacy>=3.0->lambeq) (3.4)\n",
      "Requirement already satisfied: mpmath>=0.19 in /home/jadewang26/miniconda3/lib/python3.10/site-packages/mpmath-1.2.1-py3.10.egg (from sympy~=1.6->pytket>=0.19.2->lambeq) (1.2.1)\n",
      "Requirement already satisfied: confection<1.0.0,>=0.0.1 in /home/jadewang26/miniconda3/lib/python3.10/site-packages (from thinc<8.3.0,>=8.1.8->spacy>=3.0->lambeq) (0.1.3)\n",
      "Requirement already satisfied: blis<0.8.0,>=0.7.8 in /home/jadewang26/miniconda3/lib/python3.10/site-packages (from thinc<8.3.0,>=8.1.8->spacy>=3.0->lambeq) (0.7.11)\n",
      "Requirement already satisfied: click<9.0.0,>=7.1.1 in /home/jadewang26/miniconda3/lib/python3.10/site-packages (from typer<0.10.0,>=0.3.0->spacy>=3.0->lambeq) (8.1.7)\n",
      "Requirement already satisfied: cloudpathlib<0.16.0,>=0.7.0 in /home/jadewang26/miniconda3/lib/python3.10/site-packages (from weasel<0.4.0,>=0.1.0->spacy>=3.0->lambeq) (0.15.1)\n",
      "Requirement already satisfied: six>=1.5 in /home/jadewang26/miniconda3/lib/python3.10/site-packages (from python-dateutil>=2.7->matplotlib>=3.1.2->discopy>=1.1.4->lambeq) (1.16.0)\n",
      "Collecting pytket-qiskit\n",
      "  Downloading pytket_qiskit-0.44.0-py3-none-any.whl (45 kB)\n",
      "\u001b[2K     \u001b[90m━━━━━━━━━━━━━━━━━━━━━━━━━━━━━━━━━━━━━━━━\u001b[0m \u001b[32m45.7/45.7 kB\u001b[0m \u001b[31m1.8 MB/s\u001b[0m eta \u001b[36m0:00:00\u001b[0m\n",
      "\u001b[?25hRequirement already satisfied: pytket~=1.19 in /home/jadewang26/miniconda3/lib/python3.10/site-packages (from pytket-qiskit) (1.20.1)\n",
      "Collecting qiskit-ibm-runtime~=0.12.0\n",
      "  Downloading qiskit_ibm_runtime-0.12.2-py3-none-any.whl (130 kB)\n",
      "\u001b[2K     \u001b[90m━━━━━━━━━━━━━━━━━━━━━━━━━━━━━━━━━━━━━━━\u001b[0m \u001b[32m130.9/130.9 kB\u001b[0m \u001b[31m3.2 MB/s\u001b[0m eta \u001b[36m0:00:00\u001b[0ma \u001b[36m0:00:01\u001b[0m\n",
      "\u001b[?25hCollecting qiskit~=0.44.0\n",
      "  Downloading qiskit-0.44.2-py3-none-any.whl (8.2 kB)\n",
      "Collecting qiskit-aer~=0.12.2\n",
      "  Downloading qiskit_aer-0.12.2-cp310-cp310-manylinux_2_17_x86_64.manylinux2014_x86_64.whl (12.8 MB)\n",
      "\u001b[2K     \u001b[90m━━━━━━━━━━━━━━━━━━━━━━━━━━━━━━━━━━━━━━━━\u001b[0m \u001b[32m12.8/12.8 MB\u001b[0m \u001b[31m34.0 MB/s\u001b[0m eta \u001b[36m0:00:00\u001b[0m00:01\u001b[0m0:01\u001b[0m\n",
      "\u001b[?25hCollecting qiskit-ibm-provider~=0.7.0\n",
      "  Downloading qiskit_ibm_provider-0.7.0-py3-none-any.whl (242 kB)\n",
      "\u001b[2K     \u001b[90m━━━━━━━━━━━━━━━━━━━━━━━━━━━━━━━━━━━━━━━\u001b[0m \u001b[32m242.9/242.9 kB\u001b[0m \u001b[31m9.4 MB/s\u001b[0m eta \u001b[36m0:00:00\u001b[0m\n",
      "\u001b[?25hRequirement already satisfied: numpy in /home/jadewang26/miniconda3/lib/python3.10/site-packages (from pytket-qiskit) (1.23.5)\n",
      "Requirement already satisfied: typing-extensions~=4.2 in /home/jadewang26/miniconda3/lib/python3.10/site-packages (from pytket~=1.19->pytket-qiskit) (4.5.0)\n",
      "Requirement already satisfied: scipy<2.0,>=1.7.2 in /home/jadewang26/miniconda3/lib/python3.10/site-packages (from pytket~=1.19->pytket-qiskit) (1.11.3)\n",
      "Requirement already satisfied: networkx>=2.8.8 in /home/jadewang26/miniconda3/lib/python3.10/site-packages (from pytket~=1.19->pytket-qiskit) (3.1)\n",
      "Requirement already satisfied: qwasm~=1.0 in /home/jadewang26/miniconda3/lib/python3.10/site-packages (from pytket~=1.19->pytket-qiskit) (1.0.1)\n",
      "Requirement already satisfied: jinja2~=3.0 in /home/jadewang26/miniconda3/lib/python3.10/site-packages (from pytket~=1.19->pytket-qiskit) (3.1.2)\n",
      "Requirement already satisfied: types-pkg-resources in /home/jadewang26/miniconda3/lib/python3.10/site-packages (from pytket~=1.19->pytket-qiskit) (0.1.3)\n",
      "Requirement already satisfied: sympy~=1.6 in /home/jadewang26/miniconda3/lib/python3.10/site-packages (from pytket~=1.19->pytket-qiskit) (1.11.1)\n",
      "Requirement already satisfied: graphviz~=0.14 in /home/jadewang26/miniconda3/lib/python3.10/site-packages (from pytket~=1.19->pytket-qiskit) (0.20.1)\n",
      "Requirement already satisfied: lark-parser~=0.7 in /home/jadewang26/miniconda3/lib/python3.10/site-packages (from pytket~=1.19->pytket-qiskit) (0.12.0)\n",
      "Collecting qiskit-terra==0.25.2.1\n",
      "  Downloading qiskit_terra-0.25.2.1-cp38-abi3-manylinux_2_17_x86_64.manylinux2014_x86_64.whl (6.2 MB)\n",
      "\u001b[2K     \u001b[90m━━━━━━━━━━━━━━━━━━━━━━━━━━━━━━━━━━━━━━━━\u001b[0m \u001b[32m6.2/6.2 MB\u001b[0m \u001b[31m31.2 MB/s\u001b[0m eta \u001b[36m0:00:00\u001b[0m:00:01\u001b[0m00:01\u001b[0m\n",
      "\u001b[?25hCollecting dill>=0.3\n",
      "  Downloading dill-0.3.7-py3-none-any.whl (115 kB)\n",
      "\u001b[2K     \u001b[90m━━━━━━━━━━━━━━━━━━━━━━━━━━━━━━━━━━━━━━━\u001b[0m \u001b[32m115.3/115.3 kB\u001b[0m \u001b[31m1.6 MB/s\u001b[0m eta \u001b[36m0:00:00\u001b[0m00:01\u001b[0m\n",
      "\u001b[?25hRequirement already satisfied: psutil>=5 in /home/jadewang26/miniconda3/lib/python3.10/site-packages (from qiskit-terra==0.25.2.1->qiskit~=0.44.0->pytket-qiskit) (5.9.0)\n",
      "Requirement already satisfied: python-dateutil>=2.8.0 in /home/jadewang26/miniconda3/lib/python3.10/site-packages (from qiskit-terra==0.25.2.1->qiskit~=0.44.0->pytket-qiskit) (2.8.2)\n",
      "Collecting stevedore>=3.0.0\n",
      "  Downloading stevedore-5.1.0-py3-none-any.whl (49 kB)\n",
      "\u001b[2K     \u001b[90m━━━━━━━━━━━━━━━━━━━━━━━━━━━━━━━━━━━━━━━━\u001b[0m \u001b[32m49.6/49.6 kB\u001b[0m \u001b[31m2.9 MB/s\u001b[0m eta \u001b[36m0:00:00\u001b[0m\n",
      "\u001b[?25hCollecting symengine<0.10,>=0.9\n",
      "  Downloading symengine-0.9.2-cp310-cp310-manylinux2010_x86_64.whl (37.5 MB)\n",
      "\u001b[2K     \u001b[90m━━━━━━━━━━━━━━━━━━━━━━━━━━━━━━━━━━━━━━━━\u001b[0m \u001b[32m37.5/37.5 MB\u001b[0m \u001b[31m16.3 MB/s\u001b[0m eta \u001b[36m0:00:00\u001b[0m00:01\u001b[0m00:01\u001b[0m\n",
      "\u001b[?25hCollecting ply>=3.10\n",
      "  Downloading ply-3.11-py2.py3-none-any.whl (49 kB)\n",
      "\u001b[2K     \u001b[90m━━━━━━━━━━━━━━━━━━━━━━━━━━━━━━━━━━━━━━━━\u001b[0m \u001b[32m49.6/49.6 kB\u001b[0m \u001b[31m1.4 MB/s\u001b[0m eta \u001b[36m0:00:00\u001b[0m\n",
      "\u001b[?25hCollecting rustworkx>=0.13.0\n",
      "  Downloading rustworkx-0.13.2-cp310-cp310-manylinux_2_17_x86_64.manylinux2014_x86_64.whl (2.0 MB)\n",
      "\u001b[2K     \u001b[90m━━━━━━━━━━━━━━━━━━━━━━━━━━━━━━━━━━━━━━━━\u001b[0m \u001b[32m2.0/2.0 MB\u001b[0m \u001b[31m26.5 MB/s\u001b[0m eta \u001b[36m0:00:00\u001b[0m:00:01\u001b[0m\n",
      "\u001b[?25hCollecting websockets>=10.0\n",
      "  Downloading websockets-11.0.3-cp310-cp310-manylinux_2_5_x86_64.manylinux1_x86_64.manylinux_2_17_x86_64.manylinux2014_x86_64.whl (129 kB)\n",
      "\u001b[2K     \u001b[90m━━━━━━━━━━━━━━━━━━━━━━━━━━━━━━━━━━━━━━━\u001b[0m \u001b[32m129.9/129.9 kB\u001b[0m \u001b[31m8.3 MB/s\u001b[0m eta \u001b[36m0:00:00\u001b[0m\n",
      "\u001b[?25hCollecting requests-ntlm>=1.1.0\n",
      "  Downloading requests_ntlm-1.2.0-py3-none-any.whl (6.0 kB)\n",
      "Requirement already satisfied: urllib3>=1.21.1 in /home/jadewang26/miniconda3/lib/python3.10/site-packages (from qiskit-ibm-provider~=0.7.0->pytket-qiskit) (1.26.14)\n",
      "Collecting websocket-client>=1.5.1\n",
      "  Downloading websocket_client-1.6.4-py3-none-any.whl (57 kB)\n",
      "\u001b[2K     \u001b[90m━━━━━━━━━━━━━━━━━━━━━━━━━━━━━━━━━━━━━━━━\u001b[0m \u001b[32m57.3/57.3 kB\u001b[0m \u001b[31m2.4 MB/s\u001b[0m eta \u001b[36m0:00:00\u001b[0m\n",
      "\u001b[?25hRequirement already satisfied: requests>=2.19 in /home/jadewang26/miniconda3/lib/python3.10/site-packages (from qiskit-ibm-provider~=0.7.0->pytket-qiskit) (2.28.1)\n",
      "Collecting ibm-platform-services>=0.22.6\n",
      "  Downloading ibm-platform-services-0.44.1.tar.gz (298 kB)\n",
      "\u001b[2K     \u001b[90m━━━━━━━━━━━━━━━━━━━━━━━━━━━━━━━━━━━━━━━\u001b[0m \u001b[32m298.7/298.7 kB\u001b[0m \u001b[31m2.8 MB/s\u001b[0m eta \u001b[36m0:00:00\u001b[0m00:01\u001b[0m\n",
      "\u001b[?25h  Installing build dependencies ... \u001b[?25ldone\n",
      "\u001b[?25h  Getting requirements to build wheel ... \u001b[?25ldone\n",
      "\u001b[?25h  Preparing metadata (pyproject.toml) ... \u001b[?25ldone\n",
      "\u001b[?25hCollecting ibm-cloud-sdk-core<4.0.0,>=3.17.0\n",
      "  Downloading ibm-cloud-sdk-core-3.17.2.tar.gz (55 kB)\n",
      "\u001b[2K     \u001b[90m━━━━━━━━━━━━━━━━━━━━━━━━━━━━━━━━━━━━━━━━\u001b[0m \u001b[32m55.8/55.8 kB\u001b[0m \u001b[31m2.8 MB/s\u001b[0m eta \u001b[36m0:00:00\u001b[0m\n",
      "\u001b[?25h  Installing build dependencies ... \u001b[?25ldone\n",
      "\u001b[?25h  Getting requirements to build wheel ... \u001b[?25ldone\n",
      "\u001b[?25h  Preparing metadata (pyproject.toml) ... \u001b[?25ldone\n",
      "\u001b[?25hRequirement already satisfied: MarkupSafe>=2.0 in /home/jadewang26/miniconda3/lib/python3.10/site-packages (from jinja2~=3.0->pytket~=1.19->pytket-qiskit) (2.1.1)\n",
      "Requirement already satisfied: six>=1.5 in /home/jadewang26/miniconda3/lib/python3.10/site-packages (from python-dateutil>=2.8.0->qiskit-terra==0.25.2.1->qiskit~=0.44.0->pytket-qiskit) (1.16.0)\n",
      "Requirement already satisfied: setuptools in /home/jadewang26/miniconda3/lib/python3.10/site-packages (from qwasm~=1.0->pytket~=1.19->pytket-qiskit) (65.6.3)\n",
      "Requirement already satisfied: idna<4,>=2.5 in /home/jadewang26/miniconda3/lib/python3.10/site-packages (from requests>=2.19->qiskit-ibm-provider~=0.7.0->pytket-qiskit) (3.4)\n",
      "Requirement already satisfied: charset-normalizer<3,>=2 in /home/jadewang26/miniconda3/lib/python3.10/site-packages (from requests>=2.19->qiskit-ibm-provider~=0.7.0->pytket-qiskit) (2.0.4)\n",
      "Requirement already satisfied: certifi>=2017.4.17 in /home/jadewang26/miniconda3/lib/python3.10/site-packages (from requests>=2.19->qiskit-ibm-provider~=0.7.0->pytket-qiskit) (2022.12.7)\n",
      "Collecting pyspnego>=0.1.6\n",
      "  Downloading pyspnego-0.10.2-py3-none-any.whl (129 kB)\n",
      "\u001b[2K     \u001b[90m━━━━━━━━━━━━━━━━━━━━━━━━━━━━━━━━━━━━━━\u001b[0m \u001b[32m129.9/129.9 kB\u001b[0m \u001b[31m25.5 MB/s\u001b[0m eta \u001b[36m0:00:00\u001b[0m\n",
      "\u001b[?25hRequirement already satisfied: cryptography>=1.3 in /home/jadewang26/miniconda3/lib/python3.10/site-packages (from requests-ntlm>=1.1.0->qiskit-ibm-provider~=0.7.0->pytket-qiskit) (38.0.4)\n",
      "Requirement already satisfied: mpmath>=0.19 in /home/jadewang26/miniconda3/lib/python3.10/site-packages/mpmath-1.2.1-py3.10.egg (from sympy~=1.6->pytket~=1.19->pytket-qiskit) (1.2.1)\n",
      "Requirement already satisfied: cffi>=1.12 in /home/jadewang26/miniconda3/lib/python3.10/site-packages (from cryptography>=1.3->requests-ntlm>=1.1.0->qiskit-ibm-provider~=0.7.0->pytket-qiskit) (1.15.1)\n",
      "Collecting PyJWT<3.0.0,>=2.8.0\n",
      "  Downloading PyJWT-2.8.0-py3-none-any.whl (22 kB)\n",
      "Collecting requests>=2.19\n",
      "  Downloading requests-2.31.0-py3-none-any.whl (62 kB)\n",
      "\u001b[2K     \u001b[90m━━━━━━━━━━━━━━━━━━━━━━━━━━━━━━━━━━━━━━━━\u001b[0m \u001b[32m62.6/62.6 kB\u001b[0m \u001b[31m9.4 MB/s\u001b[0m eta \u001b[36m0:00:00\u001b[0m\n",
      "\u001b[?25hCollecting pbr!=2.1.0,>=2.0.0\n",
      "  Downloading pbr-5.11.1-py2.py3-none-any.whl (112 kB)\n",
      "\u001b[2K     \u001b[90m━━━━━━━━━━━━━━━━━━━━━━━━━━━━━━━━━━━━━━\u001b[0m \u001b[32m112.7/112.7 kB\u001b[0m \u001b[31m21.9 MB/s\u001b[0m eta \u001b[36m0:00:00\u001b[0m\n",
      "\u001b[?25hRequirement already satisfied: pycparser in /home/jadewang26/miniconda3/lib/python3.10/site-packages (from cffi>=1.12->cryptography>=1.3->requests-ntlm>=1.1.0->qiskit-ibm-provider~=0.7.0->pytket-qiskit) (2.21)\n",
      "Building wheels for collected packages: ibm-platform-services, ibm-cloud-sdk-core\n",
      "  Building wheel for ibm-platform-services (pyproject.toml) ... \u001b[?25ldone\n",
      "\u001b[?25h  Created wheel for ibm-platform-services: filename=ibm_platform_services-0.44.1-py3-none-any.whl size=312832 sha256=b7bd9ba0e78824d09061e00f349b930e8288b0b1e594b0ab1f1cae008a748969\n",
      "  Stored in directory: /home/jadewang26/.cache/pip/wheels/91/f1/85/721e4a0946af20c5fcd58a0f3e166182e4f90a79af0929f2bf\n",
      "  Building wheel for ibm-cloud-sdk-core (pyproject.toml) ... \u001b[?25ldone\n",
      "\u001b[?25h  Created wheel for ibm-cloud-sdk-core: filename=ibm_cloud_sdk_core-3.17.2-py3-none-any.whl size=87033 sha256=0e335fa154dab059c184cf596b3909036a8c7bb3552426f0e579ab79a3e2dc63\n",
      "  Stored in directory: /home/jadewang26/.cache/pip/wheels/a6/7e/ff/515ebaae95e92812e78dbd0b2242bdc0ee7e180d425cf2d419\n",
      "Successfully built ibm-platform-services ibm-cloud-sdk-core\n",
      "Installing collected packages: ply, websockets, websocket-client, symengine, rustworkx, requests, PyJWT, pbr, dill, stevedore, ibm-cloud-sdk-core, qiskit-terra, pyspnego, ibm-platform-services, requests-ntlm, qiskit-aer, qiskit, qiskit-ibm-provider, qiskit-ibm-runtime, pytket-qiskit\n",
      "  Attempting uninstall: requests\n",
      "    Found existing installation: requests 2.28.1\n",
      "    Uninstalling requests-2.28.1:\n",
      "      Successfully uninstalled requests-2.28.1\n",
      "Successfully installed PyJWT-2.8.0 dill-0.3.7 ibm-cloud-sdk-core-3.17.2 ibm-platform-services-0.44.1 pbr-5.11.1 ply-3.11 pyspnego-0.10.2 pytket-qiskit-0.44.0 qiskit-0.44.2 qiskit-aer-0.12.2 qiskit-ibm-provider-0.7.0 qiskit-ibm-runtime-0.12.2 qiskit-terra-0.25.2.1 requests-2.31.0 requests-ntlm-1.2.0 rustworkx-0.13.2 stevedore-5.1.0 symengine-0.9.2 websocket-client-1.6.4 websockets-11.0.3\n",
      "Collecting nltk\n",
      "  Downloading nltk-3.8.1-py3-none-any.whl (1.5 MB)\n",
      "\u001b[2K     \u001b[90m━━━━━━━━━━━━━━━━━━━━━━━━━━━━━━━━━━━━━━━━\u001b[0m \u001b[32m1.5/1.5 MB\u001b[0m \u001b[31m13.5 MB/s\u001b[0m eta \u001b[36m0:00:00\u001b[0m00:01\u001b[0m00:01\u001b[0m\n",
      "\u001b[?25hRequirement already satisfied: click in /home/jadewang26/miniconda3/lib/python3.10/site-packages (from nltk) (8.1.7)\n",
      "Requirement already satisfied: tqdm in /home/jadewang26/miniconda3/lib/python3.10/site-packages (from nltk) (4.64.1)\n",
      "Requirement already satisfied: regex>=2021.8.3 in /home/jadewang26/miniconda3/lib/python3.10/site-packages (from nltk) (2023.3.22)\n",
      "Collecting joblib\n",
      "  Downloading joblib-1.3.2-py3-none-any.whl (302 kB)\n",
      "\u001b[2K     \u001b[90m━━━━━━━━━━━━━━━━━━━━━━━━━━━━━━━━━━━━━━\u001b[0m \u001b[32m302.2/302.2 kB\u001b[0m \u001b[31m13.4 MB/s\u001b[0m eta \u001b[36m0:00:00\u001b[0m\n",
      "\u001b[?25hInstalling collected packages: joblib, nltk\n",
      "Successfully installed joblib-1.3.2 nltk-3.8.1\n"
     ]
    }
   ],
   "source": [
    "! pip install lambeq\n",
    "! pip install pytket-qiskit\n",
    "! pip install nltk\n",
    "\n",
    "import numpy as np\n",
    "import warnings\n",
    "import os\n",
    "warnings.filterwarnings(\"ignore\")\n",
    "os.environ[\"TOKENIZERS_PARALLELISM\"] = \"false\""
   ]
  },
  {
   "cell_type": "markdown",
   "metadata": {
    "id": "8kzh6eLX5dp8"
   },
   "source": [
    "## Step 1: Read in the data and create diagrams\n",
    "\n",
    "To begin with, we are going to read in the 130 sentences stored in the dataset directory. Each senetence has been assigned As is standard in machine learning, these sentences are split into training, validation (dev), and development datasets. Don't worry if you don't know what this terminology means, it won't be terribly important for what follows. If you want more information you can checkout: https://en.wikipedia.org/wiki/Training,_validation,_and_test_data_sets#Validation_data_set\n",
    "\n",
    "Now it's time for your first assignment in this workshop:\n",
    "### Assigment 1: Fix the code below so that the test dataset is loaded into the appropriate variables.\n"
   ]
  },
  {
   "cell_type": "code",
   "execution_count": 3,
   "metadata": {
    "id": "WZSfSD3R5dp9"
   },
   "outputs": [],
   "source": [
    "def read_data(filename):\n",
    "    labels, sentences = [], []\n",
    "    with open(filename) as f:\n",
    "        for line in f:\n",
    "            t = int(line[0])\n",
    "            labels.append([t, 1-t])\n",
    "            sentences.append(line[1:].strip())\n",
    "    return labels, sentences\n",
    "\n",
    "\n",
    "train_labels, train_data = read_data('datasets/mc_train_data.txt')\n",
    "dev_labels, dev_data = read_data('datasets/mc_dev_data.txt')\n",
    "test_labels, test_data = read_data('datasets/mc_test_data.txt')"
   ]
  },
  {
   "cell_type": "markdown",
   "metadata": {
    "id": "oC0-oiMz5dqA"
   },
   "source": [
    "## Step 2: Parsing and Diagram creation\n",
    "\n",
    "We now want to turn each sentence in the dataset into a parameterised quantum circuit which encodes it's meaning. We begin doing this by parsing the sentences and generating their corresponding DisCoCat diagrams."
   ]
  },
  {
   "cell_type": "code",
   "execution_count": 4,
   "metadata": {
    "id": "Sgu1vdBX5dqC",
    "outputId": "75e77789-eac0-4dda-8a1f-c347cb3da7e5"
   },
   "outputs": [
    {
     "name": "stderr",
     "output_type": "stream",
     "text": [
      "Tagging sentences.\n",
      "Parsing tagged sentences.\n",
      "Turning parse trees to diagrams.\n"
     ]
    },
    {
     "data": {
      "image/png": "[encoded data removed]",
      "text/plain": [
       "<Figure size 640x480 with 1 Axes>"
      ]
     },
     "metadata": {},
     "output_type": "display_data"
    },
    {
     "name": "stderr",
     "output_type": "stream",
     "text": [
      "Tagging sentences.\n",
      "Parsing tagged sentences.\n",
      "Turning parse trees to diagrams.\n"
     ]
    },
    {
     "data": {
      "image/png": "[encoded data removed]",
      "text/plain": [
       "<Figure size 640x480 with 1 Axes>"
      ]
     },
     "metadata": {},
     "output_type": "display_data"
    }
   ],
   "source": [
    "from lambeq import BobcatParser\n",
    "\n",
    "parser = BobcatParser(verbose='text')\n",
    "\n",
    "raw_train_diagrams = parser.sentences2diagrams(train_data)\n",
    "raw_train_diagrams[0].draw()\n",
    "raw_dev_diagrams = parser.sentences2diagrams(dev_data)\n",
    "raw_dev_diagrams[0].draw()\n",
    "\n"
   ]
  },
  {
   "cell_type": "markdown",
   "metadata": {
    "id": "UNTv2EGp5dqD"
   },
   "source": [
    "### Assignment 2: Complete the code below in order to generate diagrams for the test_dataset. Then draw one of these diagrams. "
   ]
  },
  {
   "cell_type": "code",
   "execution_count": null,
   "metadata": {
    "id": "Qte-gbgr5dqE"
   },
   "outputs": [],
   "source": [
    "raw_test_diagrams = ?????????\n",
    "?????"
   ]
  },
  {
   "cell_type": "markdown",
   "metadata": {
    "id": "K6nnyZLG5dqE"
   },
   "source": [
    "## Step 3: Diagram Rewriting\n",
    "\n",
    "Now it's time for the optional diagram rewriting step. We are going to remove all the cups in the diagram (Run the cell below to see what we mean). This is a helpful rewrite since it means that the quantum circuits we eventually end up with in the end can be implemented with less qubits. "
   ]
  },
  {
   "cell_type": "code",
   "execution_count": null,
   "metadata": {
    "id": "h1AzYfKp5dqF",
    "outputId": "2f16f75b-d2e9-4027-c188-62834209d389"
   },
   "outputs": [
    {
     "data": {
      "image/png": "[encoded data removed]",
      "text/plain": [
       "<Figure size 432x288 with 1 Axes>"
      ]
     },
     "metadata": {},
     "output_type": "display_data"
    }
   ],
   "source": [
    "from lambeq import remove_cups\n",
    "\n",
    "print(\"Before removing cups\")\n",
    "raw_train_diagrams[0].draw()\n",
    "train_diagrams = [remove_cups(diagram) for diagram in raw_train_diagrams]\n",
    "print(\"After removing cups\")\n",
    "train_diagrams[0].draw()\n",
    "\n",
    "dev_diagrams = [remove_cups(diagram) for diagram in raw_dev_diagrams]\n",
    "dev_diagrams[0].draw()\n",
    "\n"
   ]
  },
  {
   "cell_type": "markdown",
   "metadata": {
    "id": "xfBc_Gre5dqG"
   },
   "source": [
    "### Assignment 3: Remove the cups from the test_diagrams and draw one of the new diagrams."
   ]
  },
  {
   "cell_type": "code",
   "execution_count": null,
   "metadata": {
    "id": "y4PNZHvG5dqH"
   },
   "outputs": [],
   "source": [
    "test_diagrams = ????\n",
    "????\n",
    "\n"
   ]
  },
  {
   "cell_type": "markdown",
   "metadata": {
    "id": "hupW4knN5dqH"
   },
   "source": [
    "## Step 4: Create Parameterised Quantum Circuit \n",
    "\n",
    "We are finally ready to create our parameterised quantum circuit. In order to do this we will use lambeqs IQPAnsatz (See https://cqcl.github.io/lambeq/tutorials/parameterise.html for more info). "
   ]
  },
  {
   "cell_type": "code",
   "execution_count": null,
   "metadata": {
    "id": "2tix1Y105dqI"
   },
   "outputs": [],
   "source": [
    "from lambeq import AtomicType, IQPAnsatz\n",
    "\n",
    "ansatz = IQPAnsatz({AtomicType.NOUN: 1, AtomicType.SENTENCE: 1},\n",
    "                   n_layers=1, n_single_qubit_params=3)\n",
    "\n",
    "train_circuits = [ansatz(diagram) for diagram in train_diagrams]\n",
    "train_circuits[0].draw(figsize=(9, 12))\n",
    "dev_circuits =  [ansatz(diagram) for diagram in dev_diagrams]"
   ]
  },
  {
   "cell_type": "markdown",
   "metadata": {
    "id": "CNuxNHAA5dqI"
   },
   "source": [
    "### Assignment 4: Use the ansatz function to transform the testing diagrams into parameterised quantum circuits. Draw one of these quantum circuits."
   ]
  },
  {
   "cell_type": "code",
   "execution_count": null,
   "metadata": {
    "id": "9hAmN8uV5dqJ",
    "outputId": "c6506d15-6eaf-427c-da63-ac72d0008a3f"
   },
   "outputs": [
    {
     "name": "stdout",
     "output_type": "stream",
     "text": [
      "Traceback \u001b[1;36m(most recent call last)\u001b[0m:\n",
      "\u001b[1;36m  File \u001b[1;32m/opt/conda/lib/python3.8/site-packages/IPython/core/compilerop.py:105\u001b[1;36m in \u001b[1;35mast_parse\u001b[1;36m\u001b[0m\n",
      "\u001b[1;33m    return compile(source, filename, symbol, self.flags | PyCF_ONLY_AST, 1)\u001b[0m\n",
      "\u001b[1;36m  Input \u001b[1;32mIn [3]\u001b[1;36m\u001b[0m\n",
      "\u001b[1;33m    test_circuits = ????\u001b[0m\n",
      "\u001b[1;37m                    ^\u001b[0m\n",
      "\u001b[1;31mSyntaxError\u001b[0m\u001b[1;31m:\u001b[0m invalid syntax\n",
      "\n",
      "Use %tb to get the full traceback.\n"
     ]
    },
    {
     "data": {
      "text/html": [
       "\n",
       "<style>\n",
       ".button {\n",
       "  border: none;\n",
       "  color: white;\n",
       "  padding: 4px 8px;\n",
       "  text-align: center;\n",
       "  text-decoration: none;\n",
       "  display: inline-block;\n",
       "  font-size: 12px;\n",
       "  margin: 4px 2px;\n",
       "  transition-duration: 0.2s;\n",
       "  cursor: pointer;\n",
       "}\n",
       ".iqx-button {\n",
       "  background-color: #0f62fe; \n",
       "  color: white; \n",
       "}\n",
       ".iqx-button:hover {\n",
       "  background-color: #0043ce;\n",
       "  color: white;\n",
       "}\n",
       "</style>\n",
       "<a href=\"https://stackoverflow.com/search?q=SyntaxError: invalid syntax\" target='_blank'><button class='button iqx-button'>Search for solution online</button></a>\n"
      ],
      "text/plain": [
       "<IPython.core.display.HTML object>"
      ]
     },
     "metadata": {},
     "output_type": "display_data"
    }
   ],
   "source": [
    "test_circuits = ????\n",
    "????"
   ]
  },
  {
   "cell_type": "markdown",
   "metadata": {
    "id": "XQu2fk8k5dqK"
   },
   "source": [
    "# Step 5: Choosing a backend\n",
    "We are now going to choose a backend on which our quantum circuits is going to be run. In this workshop we are going to use a classical simulator (a classical computer which simulates the bahaviour of a real quantum computer) to run our circuits. \n",
    "\n",
    "The IBM Quantum Experience does allow us to run this code on real quantum computers as well. However, given that access to quantum computers is currently in high demand this won't be feasible to do during the workshop, since we'd spent the whole time queuing and waiting for our circuits to be executed. So you have some homework:\n",
    "\n",
    "### Homework: Read through the pytket and qiskit documentation and try changing the code to use a real quantum computer as a backend."
   ]
  },
  {
   "cell_type": "code",
   "execution_count": null,
   "metadata": {
    "id": "NbAv3-O75dqL"
   },
   "outputs": [],
   "source": [
    "from pytket.extensions.qiskit import AerBackend\n",
    "from lambeq import TketModel\n",
    "\n",
    "all_circuits = train_circuits+dev_circuits+test_circuits\n",
    "\n",
    "backend = AerBackend()\n",
    "backend_config = {\n",
    "    'backend': backend,\n",
    "    'compilation': backend.default_compilation_pass(2),\n",
    "    'shots': 8192\n",
    "}"
   ]
  },
  {
   "cell_type": "markdown",
   "metadata": {
    "id": "VXneWmYr5dqN"
   },
   "source": [
    "# Step 6: Creating the quantum sentence classifier. \n",
    "\n",
    "The code below trains our quantum sentence classifier. Since the training can take a few minutes we could alternatively work with a pre-trained model which you can load from the `checkpoint.pickle` file."
   ]
  },
  {
   "cell_type": "code",
   "execution_count": null,
   "metadata": {
    "id": "_4DGOBBP5dqO"
   },
   "outputs": [],
   "source": [
    "model = TketModel.from_diagrams(all_circuits, backend_config=backend_config)\n",
    "\n",
    "loss = lambda y_hat, y: -np.sum(y * np.log(y_hat)) / len(y)  # binary cross-entropy loss\n",
    "acc = lambda y_hat, y: np.sum(np.round(y_hat) == y) / len(y) / 2  # half due to double-counting\n",
    "\n",
    "from lambeq import QuantumTrainer, SPSAOptimizer\n",
    "\n",
    "EPOCHS = 120\n",
    "BATCH_SIZE = 30\n",
    "\n",
    "trainer = QuantumTrainer(\n",
    "    model,\n",
    "    loss_function=loss,\n",
    "    epochs=EPOCHS,\n",
    "    optimizer=SPSAOptimizer,\n",
    "    optim_hyperparams={'a': 0.05, 'c': 0.06, 'A':0.01*EPOCHS},\n",
    "    evaluate_functions={'acc': acc},\n",
    "    evaluate_on_train=True,\n",
    "    verbose = 'text',\n",
    "    seed=0\n",
    ")\n",
    "\n",
    "from lambeq import Dataset\n",
    "\n",
    "train_dataset = Dataset(\n",
    "            train_circuits,\n",
    "            train_labels,\n",
    "            batch_size=BATCH_SIZE)\n",
    "\n",
    "val_dataset = Dataset(dev_circuits, dev_labels, shuffle=False)\n",
    "trainer.fit(train_dataset, val_dataset, logging_step=1)"
   ]
  },
  {
   "cell_type": "code",
   "execution_count": null,
   "metadata": {
    "id": "bGdV9TRm5dqP"
   },
   "outputs": [],
   "source": [
    "# model = TketModel.from_checkpoint('checkpoint.pickle', backend_config=backend_config)"
   ]
  },
  {
   "cell_type": "markdown",
   "metadata": {
    "id": "m-fjpkfT5dqQ"
   },
   "source": [
    "# Step 7: It's finally time for sentence generation!\n",
    "\n",
    "\n",
    "We are now ready to implement an algorithm that generates a sentence about cooking. This will be achieved by searching through the space of all possible sentences in order to find and output a sentence about cooking. \n",
    "\n",
    "As discussed in the presentation the task above is called an optimisation problem. There are many different search strategies that can be employed to solve this task. Here we will employ the simplest possible strategy: Random guessing. \n",
    "\n",
    "Before we implement the random guessing algorithm we describe two helper functions. The details of how these are implemented are not important, but their input output behaviour is:\n",
    "\n",
    "1. The `_create_sentence_searc_space()` function takes in no inputs and returns a list of all the sentences in our search space. \n",
    "2. The `_measure_quantum_circuit_for_sentence(sentence)` function takes in a sentence in the search space and measures the corresponding paraemterised quantum circuit, returning an array of two numbers between 0 and 1, which add up to 1. The first number represents the probability that the given sentence is about food, while the second number represents the probability that it is about IT."
   ]
  },
  {
   "cell_type": "code",
   "execution_count": null,
   "metadata": {
    "id": "x8_q4A-R5dqR"
   },
   "outputs": [],
   "source": [
    "from nltk import CFG\n",
    "from nltk.parse.generate import generate\n",
    "\n",
    "def _create_sentence_search_space():\n",
    "    MC_GRAMMAR = \"\"\"\n",
    "      S -> NP VP\n",
    "      NP -> N\n",
    "      VP -> V NP\n",
    "      NP -> A N\n",
    "      A -> 'skillful' | 'tasty' | 'useful'\n",
    "      N -> 'application' | 'dinner' | 'man' | 'meal' | 'person' | 'program' | 'sauce' | 'software' | 'woman'\n",
    "      V -> 'bakes' | 'cooks' | 'debugs' | 'prepares' | 'runs'\n",
    "      \"\"\"\n",
    "\n",
    "    VOCAB = ['debugs', 'dinner', 'person', 'useful', 'runs', 'program', 'bakes', 'cooks', 'skillful', 'woman', 'prepares', 'application', 'man', 'software', 'sauce', 'meal', 'tasty']\n",
    "\n",
    "    subjects = [\"man\", \"woman\", \"person\"]\n",
    "    objects = [\"sauce\", \"meal\", \"application\", \"software\", \"dinner\", \"program\"]\n",
    "\n",
    "    GRAMMAR = CFG.fromstring(MC_GRAMMAR)\n",
    "    SENTENCES = list(generate(GRAMMAR))\n",
    "\n",
    "    def filter_sentence(sentence):\n",
    "        # Make sure no word appears more than once:\n",
    "        if not len(set(sentence)) == len(sentence):\n",
    "            return False\n",
    "\n",
    "        # Make sure subject appears before object:\n",
    "        try:\n",
    "            subject_position = next(i for i,v in enumerate(sentence) if v in subjects)\n",
    "            object_position = next(i for i,v in enumerate(sentence) if v in objects)\n",
    "        except:\n",
    "            return False\n",
    "        return subject_position < object_position\n",
    "\n",
    "    SENTENCES = list(filter(filter_sentence, SENTENCES))\n",
    "    return SENTENCES\n",
    "\n",
    "def _measure_quantum_circuit_for_sentence(sentence):\n",
    "    parser = BobcatParser(verbose='text')\n",
    "    diagram = parser.sentences2diagrams([sentence])\n",
    "    circ = [ansatz(d) for d in diagram]\n",
    "\n",
    "    return model.get_diagram_output(circ)[0]"
   ]
  },
  {
   "cell_type": "markdown",
   "metadata": {
    "id": "HfAA1bHL5dqS"
   },
   "source": [
    "### Generation assignment: Complete the  randomly_generate_sentence_with_topic function below. It's behaviour should be to continously guess a random sentence from the search space and then check to see if this is with high probability a sentence about the correct topic. If such a sentence is found, it should be returned. "
   ]
  },
  {
   "cell_type": "code",
   "execution_count": null,
   "metadata": {
    "id": "-qRMhl8A5dqT"
   },
   "outputs": [],
   "source": [
    "import random\n",
    "SENTENCES = ????\n",
    "def randomly_generate_sentence_with_topic(topic):\n",
    "    i = 0\n",
    "    while i < 100:\n",
    "        i += 1\n",
    "        print(i)\n",
    "        sentence = \" \".join(random.choice(SENTENCES))\n",
    "        print(sentence)\n",
    "        prediction = ?????\n",
    "        print(prediction)\n",
    "        if topic == \"Food\" and prediction[0] > 0.9:\n",
    "            return i, sentence\n",
    "            break\n",
    "        elif topic == \"IT\" and prediction[1] > 0.9:\n",
    "            return i, sentence\n",
    "            break\n",
    "    return 100, \"Max iterations reached\""
   ]
  },
  {
   "cell_type": "markdown",
   "metadata": {
    "id": "sLBaksjV5dqU"
   },
   "source": [
    "Let's now run the function to generate a sentence about food"
   ]
  },
  {
   "cell_type": "code",
   "execution_count": null,
   "metadata": {
    "id": "ZGvsj2955dqV"
   },
   "outputs": [],
   "source": [
    "randomly_generate_sentence_with_topic(\"Food\")"
   ]
  },
  {
   "cell_type": "code",
   "execution_count": null,
   "metadata": {},
   "outputs": [],
   "source": []
  },
  {
   "cell_type": "markdown",
   "metadata": {
    "id": "c9aYVOeI5dqV"
   },
   "source": [
    "# Bonus Question! (Difficult)\n",
    "Of course, random guessing is not the most efficient way of navigating through the search space of sentences! \n",
    "In fact we already saw a cleverer way of performing this task in the presentation. This method was based on the well known hill climbing algorithm: https://en.wikipedia.org/wiki/Hill_climbing\n",
    "Your task is to read about hill climbing and use your newfound knowledge to implement the sentence generation algorithm we covered in the presentation. "
   ]
  }
 ],
 "metadata": {
  "colab": {
   "name": "workshop.ipynb",
   "provenance": []
  },
  "kernelspec": {
   "display_name": "Python 3 (ipykernel)",
   "language": "python",
   "name": "python3"
  },
  "language_info": {
   "codemirror_mode": {
    "name": "ipython",
    "version": 3
   },
   "file_extension": ".py",
   "mimetype": "text/x-python",
   "name": "python",
   "nbconvert_exporter": "python",
   "pygments_lexer": "ipython3",
   "version": "3.1.0"
  }
 },
 "nbformat": 4,
 "nbformat_minor": 1
}
